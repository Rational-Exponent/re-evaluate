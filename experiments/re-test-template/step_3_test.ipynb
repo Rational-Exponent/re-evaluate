{
 "cells": [
  {
   "cell_type": "markdown",
   "metadata": {},
   "source": [
    "### Step 3\n",
    "# Run completions on the Q/A data set"
   ]
  },
  {
   "cell_type": "markdown",
   "metadata": {},
   "source": [
    "# Setup\n",
    "```bash\n",
    "git clone https://github.com/Rational-Exponent/dispatcher.git lib/dispatcher\n",
    "cd lib/dispatcher\n",
    "pip install -e .\n",
    "```\n"
   ]
  },
  {
   "cell_type": "code",
   "execution_count": null,
   "metadata": {},
   "outputs": [],
   "source": [
    "import sys, os\n",
    "lib_dir = os.path.abspath(os.path.join(os.path.curdir, \"lib/dispatcher/src\"))\n",
    "if lib_dir not in sys.path:\n",
    "    print(f\"Adding {lib_dir} to sys.path\")\n",
    "    sys.path.insert(0, lib_dir)\n",
    "else:\n",
    "    print(f\"{lib_dir} already in sys.path\")\n",
    "\n",
    "os.environ[\"APP_CONFIG_DIR\"] = os.path.abspath(os.path.join(os.path.curdir, \"lib/dispatcher/config\"))\n",
    "\n",
    "data_path = os.path.abspath(os.path.join(os.path.curdir, \"..\", \"..\", \"eval-data\"))\n"
   ]
  },
  {
   "cell_type": "markdown",
   "metadata": {},
   "source": [
    "# Load Q/A set"
   ]
  },
  {
   "cell_type": "code",
   "execution_count": null,
   "metadata": {},
   "outputs": [],
   "source": [
    "import json\n",
    "\n",
    "qa_source_file = 'sample-occ-uce-mc-exam.json'\n",
    "\n",
    "with open(os.path.join(data_path, qa_source_file), 'r') as f:\n",
    "    file_data = f.read()\n",
    "    qa_data = json.loads(file_data)\n",
    "\n",
    "print(f\"Loaded {len(qa_data.get(\"eval-questions\"))} questions from {qa_source_file}\")"
   ]
  },
  {
   "cell_type": "markdown",
   "metadata": {},
   "source": [
    "# Run completions\n"
   ]
  },
  {
   "cell_type": "code",
   "execution_count": null,
   "metadata": {},
   "outputs": [],
   "source": [
    "from fastapi.testclient import TestClient\n",
    "from httpx import AsyncClient\n",
    "\n",
    "# Import our application code to test\n",
    "# We will test the top-level API application here\n",
    "from dispatcher.main import api\n",
    "from dispatcher.models import (\n",
    "    CreateChatCompletionRequest,\n",
    "    ChatCompletionRequestUserMessage\n",
    ")\n",
    "\n",
    "# Attach a test client to our imported FastAPI application\n",
    "client = TestClient(api) \n",
    "# client = AsyncClient(app=api, base_url=\"http://test\") \n",
    " \n",
    "for qa in qa_data.get(\"eval-questions\"):\n",
    "    request_payload = {\n",
    "        \"model\": \"passthrough\", \n",
    "        \"messages\": [\n",
    "            {\n",
    "                \"role\": \"user\",\n",
    "                \"content\": qa.get(\"question\")\n",
    "            }\n",
    "        ],\n",
    "        \"stream\": \"false\" \n",
    "    }\n",
    "\n",
    "    # We need to patch the `validate_jwt` function to avoid authentication failure\n",
    "    from unittest.mock import patch\n",
    "    with patch(\"dispatcher.main.validate_jwt\", return_value={\"user\": \"test_user\", \"email\": \"test@test.com\"}):\n",
    "        response = client.post(\n",
    "            \"/v1/chat/completions\",\n",
    "            json=request_payload,\n",
    "            headers={\"Authorization\": \"Bearer test_token\"},\n",
    "        )\n",
    "        print(\">> API RESPONSE: \", response)\n",
    "        message = response.json()[\"choices\"][0][\"message\"][\"content\"]\n",
    "        print(\">> LLM RSESPONSE\", message)\n",
    "\n",
    "        qa[\"response\"] = message\n",
    "\n",
    "        "
   ]
  },
  {
   "cell_type": "code",
   "execution_count": null,
   "metadata": {},
   "outputs": [],
   "source": [
    "# Save the responses to a file\n",
    "\n",
    "qa_output_file = os.path.join(data_path, \"responses\", qa_source_file)\n",
    "\n",
    "print(f\"Saving responses to {qa_output_file}\")\n",
    "with open(qa_output_file, 'w') as f:\n",
    "    f.write(json.dumps(qa_data, indent=2))"
   ]
  }
 ],
 "metadata": {
  "kernelspec": {
   "display_name": ".venv",
   "language": "python",
   "name": "python3"
  },
  "language_info": {
   "codemirror_mode": {
    "name": "ipython",
    "version": 3
   },
   "file_extension": ".py",
   "mimetype": "text/x-python",
   "name": "python",
   "nbconvert_exporter": "python",
   "pygments_lexer": "ipython3",
   "version": "3.12.7"
  }
 },
 "nbformat": 4,
 "nbformat_minor": 2
}
