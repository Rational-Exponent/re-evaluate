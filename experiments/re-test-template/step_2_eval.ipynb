{
 "cells": [
  {
   "cell_type": "markdown",
   "metadata": {},
   "source": [
    "### Step 4\n",
    "# Evaluation of completion results\n",
    "\n"
   ]
  },
  {
   "cell_type": "code",
   "execution_count": null,
   "metadata": {},
   "outputs": [],
   "source": [
    "import sys, os\n",
    "lib_dir = os.path.abspath(os.path.join(os.path.curdir, \"lib/dispatcher/src\"))\n",
    "if lib_dir not in sys.path:\n",
    "    print(f\"Adding {lib_dir} to sys.path\")\n",
    "    sys.path.insert(0, lib_dir)\n",
    "else:\n",
    "    print(f\"{lib_dir} already in sys.path\")\n",
    "\n",
    "os.environ[\"APP_CONFIG_DIR\"] = os.path.abspath(os.path.join(os.path.curdir, \"lib/dispatcher/config\"))\n",
    "\n",
    "data_path = os.path.abspath(os.path.join(os.path.curdir, \"..\", \"..\", \"eval-data\"))\n",
    "\n",
    "import dotenv\n",
    "dotenv.load_dotenv()"
   ]
  },
  {
   "cell_type": "markdown",
   "metadata": {},
   "source": [
    "# Load the Responses"
   ]
  },
  {
   "cell_type": "code",
   "execution_count": null,
   "metadata": {},
   "outputs": [],
   "source": [
    "import json\n",
    "\n",
    "qa_source_file = 'sample-occ-uce-mc-exam.json'\n",
    "\n",
    "qa_input_file = os.path.join(data_path, \"responses\", qa_source_file)\n",
    "\n",
    "with open(qa_input_file, 'r') as f:\n",
    "    file_data = f.read()\n",
    "    qa_data = json.loads(file_data)\n",
    "\n",
    "print(f\"Loaded {len(qa_data.get(\"eval-questions\"))} responses from {qa_input_file}\")\n",
    "\n"
   ]
  },
  {
   "cell_type": "markdown",
   "metadata": {},
   "source": [
    "# Perform evals"
   ]
  },
  {
   "cell_type": "code",
   "execution_count": null,
   "metadata": {},
   "outputs": [],
   "source": [
    "from deepeval import evaluate\n",
    "from deepeval.test_case import LLMTestCase\n",
    "from deepeval.metrics import AnswerRelevancyMetric\n",
    "\n",
    "\n",
    "metric = AnswerRelevancyMetric(threshold=0.5)\n",
    "test_cases = [LLMTestCase(\n",
    "    input=response.get(\"question\"),\n",
    "    actual_output=response.get(\"response\")\n",
    ") for response in qa_data.get(\"eval-questions\")]\n",
    "\n",
    "score_data = evaluate(test_cases, [metric])\n",
    "scores = [r.metrics_data[0].score for r in score_data.test_results]\n",
    "print(scores)\n",
    "\n"
   ]
  },
  {
   "cell_type": "code",
   "execution_count": 7,
   "metadata": {},
   "outputs": [],
   "source": [
    "for qa, s in zip(qa_data.get(\"eval-questions\"), scores):\n",
    "    qa[\"score-answer-relevance\"] = s\n",
    "\n",
    "output_file = os.path.join(data_path, \"scores\", f\"{qa_source_file}.scored.json\")\n",
    "\n",
    "with open(output_file, 'w') as f:\n",
    "    f.write(json.dumps(qa_data, indent=2))\n",
    "    "
   ]
  }
 ],
 "metadata": {
  "kernelspec": {
   "display_name": ".venv",
   "language": "python",
   "name": "python3"
  },
  "language_info": {
   "codemirror_mode": {
    "name": "ipython",
    "version": 3
   },
   "file_extension": ".py",
   "mimetype": "text/x-python",
   "name": "python",
   "nbconvert_exporter": "python",
   "pygments_lexer": "ipython3",
   "version": "3.12.7"
  }
 },
 "nbformat": 4,
 "nbformat_minor": 2
}
