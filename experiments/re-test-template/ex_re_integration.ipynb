{
 "cells": [
  {
   "cell_type": "markdown",
   "metadata": {},
   "source": [
    "## Testing app integration\n",
    "\n",
    "This is an example of using an api endpoint for completions and mocking out the JWT auth"
   ]
  },
  {
   "cell_type": "markdown",
   "metadata": {},
   "source": [
    "## test with `dispatcher`\n",
    "\n",
    "### Setup\n",
    "```bash\n",
    "git clone https://github.com/Rational-Exponent/dispatcher.git lib/dispatcher\n",
    "cd lib/dispatcher\n",
    "pip install -e .\n",
    "```"
   ]
  },
  {
   "cell_type": "code",
   "execution_count": null,
   "metadata": {},
   "outputs": [],
   "source": [
    "import sys, os\n",
    "lib_dir = os.path.abspath(os.path.join(os.path.curdir, \"lib/dispatcher/src\"))\n",
    "if lib_dir not in sys.path:\n",
    "    print(f\"Adding {lib_dir} to sys.path\")\n",
    "    sys.path.insert(0, lib_dir)\n",
    "else:\n",
    "    print(f\"{lib_dir} already in sys.path\")\n",
    "\n",
    "os.environ[\"APP_CONFIG_DIR\"] = os.path.abspath(os.path.join(os.path.curdir, \"lib/dispatcher/config\"))"
   ]
  },
  {
   "cell_type": "markdown",
   "metadata": {},
   "source": [
    "## Database connection"
   ]
  },
  {
   "cell_type": "code",
   "execution_count": 2,
   "metadata": {},
   "outputs": [],
   "source": [
    "import sqlite3\n",
    "# Create a connection to the database\n",
    "db_connection = sqlite3.connect('../evals.db')"
   ]
  },
  {
   "cell_type": "markdown",
   "metadata": {},
   "source": [
    "## Integrate with the application and run completions"
   ]
  },
  {
   "cell_type": "code",
   "execution_count": null,
   "metadata": {},
   "outputs": [],
   "source": [
    "from fastapi.testclient import TestClient\n",
    "from httpx import AsyncClient\n",
    "\n",
    "# Import our application code to test\n",
    "# We will test the top-level API application here\n",
    "from dispatcher.main import api\n",
    "from dispatcher.models import (\n",
    "    CreateChatCompletionRequest,\n",
    "    ChatCompletionRequestUserMessage\n",
    ")\n",
    "\n",
    "# Attach a test client to our imported FastAPI application\n",
    "client = AsyncClient(app=api, base_url=\"http://test\") # TestClient(api)\n",
    " \n",
    "request_payload = {\n",
    "    \"model\": \"passthrough\", \n",
    "    \"messages\": [\n",
    "        {\n",
    "            \"role\": \"user\",\n",
    "            \"content\": \"Hello, my world!\"\n",
    "        }\n",
    "    ],\n",
    "    \"stream\": \"false\" \n",
    "}\n",
    "\n",
    "# We need to patch the `validate_jwt` function to avoid authentication failure\n",
    "from unittest.mock import patch\n",
    "with patch(\"dispatcher.main.validate_jwt\", return_value={\"user\": \"test_user\", \"email\": \"test@test.com\"}):\n",
    "    response = await client.post(\n",
    "        \"/v1/chat/completions\",\n",
    "        json=request_payload,\n",
    "        headers={\"Authorization\": \"Bearer test_token\"},\n",
    "    )\n",
    "    print(\">> API RESPONSE: \", response)\n",
    "    message = response.json()[\"choices\"][0][\"message\"][\"content\"]\n",
    "    print(\">> LLM RSESPONSE\", message)\n",
    "    "
   ]
  },
  {
   "cell_type": "markdown",
   "metadata": {},
   "source": []
  },
  {
   "cell_type": "markdown",
   "metadata": {},
   "source": [
    "## test with `mvp` / `chat-service`\n",
    "\n",
    "### Setup\n",
    "First we need to install the package into our lab environment\n",
    "\n",
    "In this experiment folder terminal run:\n",
    "```bash\n",
    "git clone https://github.com/Rational-Exponent/mvp.git lib/mvp\n",
    "cd lib/mvp/app/services/chat\n",
    "poetry install\n",
    "```\n",
    "\n",
    "### Paths\n",
    "\n",
    "We must add the module code paths to our system so it can import dependencies correctly"
   ]
  },
  {
   "cell_type": "code",
   "execution_count": null,
   "metadata": {},
   "outputs": [],
   "source": [
    "import sys, os\n",
    "lib_path = os.path.abspath(os.path.join(os.path.curdir, \"lib/mvp/app/services/chat\"))\n",
    "if lib_path not in sys.path:\n",
    "    print(f\"Adding {lib_path} to sys.path\")\n",
    "    sys.path.append(lib_path)\n",
    "else:\n",
    "    print(f\"{lib_path} already in sys.path\")"
   ]
  },
  {
   "cell_type": "markdown",
   "metadata": {},
   "source": [
    "# Add sample data to qdrant"
   ]
  },
  {
   "cell_type": "code",
   "execution_count": null,
   "metadata": {},
   "outputs": [],
   "source": [
    "from qdrant_client import QdrantClient\n",
    "from qdrant_client.http.models import PointStruct, Distance\n",
    "import numpy as np\n",
    "\n",
    "client = QdrantClient(\"http://localhost:6333\")\n",
    "\n",
    "collection_name = \"test_collection\"\n",
    "\n",
    "if collection_name in client.get_collections():\n",
    "    client.delete_collection(collection_name)\n",
    "    print(f\"Collection '{collection_name}' deleted.\")\n",
    "\n",
    "dim = 1536\n",
    "client.recreate_collection(\n",
    "    collection_name=collection_name,\n",
    "    vectors_config={\n",
    "        \"size\": dim,  # Adjust this to your vector dimension\n",
    "        \"distance\": Distance.COSINE\n",
    "    }\n",
    ")\n",
    "print(f\"Collection '{collection_name}' created.\")\n",
    "\n",
    "num_vectors = 1  # Number of vectors to generate\n",
    "vectors = [np.random.rand(dim).tolist() for _ in range(num_vectors)]  # Random vectors\n",
    "\n",
    "points = [\n",
    "    PointStruct(\n",
    "        id=i + 1,  # Unique ID for each point\n",
    "        vector=vectors[i], \n",
    "        payload={\"name\": f\"example_{i + 1}\", \"category\": \"test\"}\n",
    "    )\n",
    "    for i in range(num_vectors)\n",
    "]\n",
    "\n",
    "client.upsert(collection_name=collection_name, points=points)\n",
    "print(f\"Points inserted into '{collection_name}'.\")\n"
   ]
  },
  {
   "cell_type": "markdown",
   "metadata": {},
   "source": [
    "### Running\n",
    "Run the following to generate a test completion"
   ]
  },
  {
   "cell_type": "code",
   "execution_count": null,
   "metadata": {},
   "outputs": [],
   "source": [
    "from lib.mvp.app.services.chat.main import chat_kb\n",
    "from lib.mvp.app.services.chat.model import ChatCompletionRequest\n",
    "\n",
    "request = ChatCompletionRequest(\n",
    "    model=\"passthrough\",\n",
    "    messages=[\n",
    "        dict(\n",
    "            role=\"user\",\n",
    "            content=\"Hello, my world!\"\n",
    "        )\n",
    "    ],\n",
    "    stream=False\n",
    ")\n",
    "\n",
    "kb = \"test_collection\"\n",
    "response = chat_kb(kb, request)\n",
    "print(response)"
   ]
  },
  {
   "cell_type": "markdown",
   "metadata": {},
   "source": [
    "# ISSUES\n",
    "\n",
    "1. The above will connect to local `qdrant` with no data\n",
    "2. The above will attempt to perform an embedding call to bedrock"
   ]
  },
  {
   "cell_type": "code",
   "execution_count": null,
   "metadata": {},
   "outputs": [],
   "source": [
    "! which pip\n",
    "! pip list | grep llama"
   ]
  }
 ],
 "metadata": {
  "kernelspec": {
   "display_name": ".venv",
   "language": "python",
   "name": "python3"
  },
  "language_info": {
   "codemirror_mode": {
    "name": "ipython",
    "version": 3
   },
   "file_extension": ".py",
   "mimetype": "text/x-python",
   "name": "python",
   "nbconvert_exporter": "python",
   "pygments_lexer": "ipython3",
   "version": "3.10.15"
  }
 },
 "nbformat": 4,
 "nbformat_minor": 2
}
